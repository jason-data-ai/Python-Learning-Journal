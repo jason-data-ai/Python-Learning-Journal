{
 "cells": [
  {
   "cell_type": "code",
   "execution_count": 87,
   "id": "d341bd9f-bcea-4f20-a0c5-ee22e02aac54",
   "metadata": {},
   "outputs": [
    {
     "name": "stdout",
     "output_type": "stream",
     "text": [
      "{'kim': ['visit', 'cart', 'buy'], 'lee': ['visit', 'buy']}\n"
     ]
    }
   ],
   "source": [
    "from collections import defaultdict\n",
    "from pprint import pprint\n",
    "\n",
    "logs = [\n",
    "    (\"2025-04-05\", \"kim\", \"visit\"),\n",
    "    (\"2025-04-05\", \"kim\", \"visit\"),\n",
    "    (\"2025-04-05\", \"kim\", \"cart\"),\n",
    "    (\"2025-04-05\", \"kim\", \"cart\"),\n",
    "    (\"2025-04-05\", \"kim\", \"buy\"),\n",
    "    (\"2025-04-05\", \"lee\", \"visit\"),\n",
    "    (\"2025-04-05\", \"lee\", \"buy\"),\n",
    "    (\"2025-04-06\", \"lee\", \"buy\")\n",
    "]\n",
    "\n",
    "users_states = defaultdict(list)\n",
    "\n",
    "# set() 사용 안했을 때\n",
    "# 그냥 중복만 안 시키면 된다고 생각하고 루프를 -> users_states에 같은 단어 여부 검색 -> 없으면 추가\n",
    "# for _, user, states in logs:\n",
    "#     if not users_states[user] or not states in users_states[user]:\n",
    "#         users_states[user].append(states)\n",
    "\n",
    "# set() 사용 했을 때\n",
    "# 위의 코드와 같은 경우인데, 이번에는 set() 사용\n",
    "# for _, user, states in logs:\n",
    "#     users_states[user].append(action)\n",
    "\n",
    "# for user in users_action:\n",
    "#     users_states[user] = set(users_states[user])\n",
    "\n",
    "\n",
    "# 문제의 팁을 참고했을 때\n",
    "# 처음에 참고한다고 했는데, 고민하면서 문제를 다시 보니, '이전 행동과 다를때만' 이라는 조건을 이제서야 봄.\n",
    "# last_state은 객체로 만들어야 다양한 사람들의 이전 행동들을 개별적으로 추적이 빠르고 간단하게 가능하기 때문.\n",
    "# 루프 돌면서 -> 우선 사용자가 last_state에 저장 여부 부터 확인 (검색 안하면 키 에러)\n",
    "#    -> 여기서 1차적으로 없다면 바로 users_states 저장 가능 -> 이후에 last_state에 user가 존재 한다면,\n",
    "#    -> 이전 행동과 다른지 확인 -> 그래서 순서를 사용자 이름 부터 검색하기 위한 흐름으로 작성 -> 조건 통과하면\n",
    "#                                                     users_states에 저장 혹은 업데이트 ->\n",
    "# 그리고 이전 행동 기록 교체 -> 그래야 바뀐 이전 행동을 추적 가능\n",
    "last_state = {}\n",
    "for _, user, state in logs:\n",
    "    if not user in last_state or not last_state[user] == state:\n",
    "        users_states[user].append(state)\n",
    "        last_state[user] = state\n",
    "\n",
    "pprint(dict(users_states))"
   ]
  },
  {
   "cell_type": "code",
   "execution_count": null,
   "id": "e075e8c5-24d2-4466-ba80-8f8261e8d579",
   "metadata": {},
   "outputs": [],
   "source": []
  }
 ],
 "metadata": {
  "kernelspec": {
   "display_name": "pyenv-venv",
   "language": "python",
   "name": "python3"
  },
  "language_info": {
   "codemirror_mode": {
    "name": "ipython",
    "version": 3
   },
   "file_extension": ".py",
   "mimetype": "text/x-python",
   "name": "python",
   "nbconvert_exporter": "python",
   "pygments_lexer": "ipython3",
   "version": "3.12.2"
  }
 },
 "nbformat": 4,
 "nbformat_minor": 5
}
