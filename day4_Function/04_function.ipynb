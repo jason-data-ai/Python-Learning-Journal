{
 "cells": [
  {
   "cell_type": "code",
   "execution_count": 1,
   "id": "303adbda-647e-4837-93fa-29cf4985a8f2",
   "metadata": {},
   "outputs": [
    {
     "name": "stdin",
     "output_type": "stream",
     "text": [
      "점수를 입력하세요:  99\n"
     ]
    },
    {
     "name": "stdout",
     "output_type": "stream",
     "text": [
      "당신의 학점은 A입니다.\n"
     ]
    }
   ],
   "source": [
    "def grade(score):\n",
    "    if score > 100:\n",
    "        return \"1 ~ 100\"\n",
    "    elif score >= 90:\n",
    "        return \"A\"\n",
    "    elif score >= 80:\n",
    "        return \"B\"\n",
    "    elif score >= 70:\n",
    "        return \"C\"\n",
    "    elif score >= 60:\n",
    "        return \"D\"\n",
    "    elif score < 0:\n",
    "        return \"1 ~ 100\"\n",
    "    else:\n",
    "        return \"F\"\n",
    "\n",
    "score = int(input(\"점수를 입력하세요: \"))\n",
    "evaluate = grade(score)\n",
    "\n",
    "if evaluate == \"1 ~ 100\":\n",
    "    print(f'잘못된 점수입니다. 점수의 범위는 {evaluate} 입니다.')\n",
    "else:\n",
    "    print(f'당신의 학점은 {evaluate}입니다.')"
   ]
  },
  {
   "cell_type": "code",
   "execution_count": 2,
   "id": "7ea84c18-81ea-43f6-be1d-c921eafee395",
   "metadata": {},
   "outputs": [
    {
     "name": "stdin",
     "output_type": "stream",
     "text": [
      "사과를 영어로 하면 무엇인가요?  banana\n"
     ]
    },
    {
     "name": "stdout",
     "output_type": "stream",
     "text": [
      "오답입니다. 다시 시도하세요.\n"
     ]
    },
    {
     "name": "stdin",
     "output_type": "stream",
     "text": [
      "사과를 영어로 하면 무엇인가요?  orange\n"
     ]
    },
    {
     "name": "stdout",
     "output_type": "stream",
     "text": [
      "오답입니다. 다시 시도하세요.\n"
     ]
    },
    {
     "name": "stdin",
     "output_type": "stream",
     "text": [
      "사과를 영어로 하면 무엇인가요?  apple\n"
     ]
    },
    {
     "name": "stdout",
     "output_type": "stream",
     "text": [
      "정답입니다!\n"
     ]
    }
   ],
   "source": [
    "def quiz(answer):\n",
    "    if answer == \"apple\":\n",
    "        return True\n",
    "    else:\n",
    "        return False\n",
    "\n",
    "result = False\n",
    "while result == False:\n",
    "    answer = input(\"사과를 영어로 하면 무엇인가요? \").lower()\n",
    "    result = quiz(answer)\n",
    "    \n",
    "    if result == True:\n",
    "        print(\"정답입니다!\")\n",
    "        break\n",
    "    else:\n",
    "        print(\"오답입니다. 다시 시도하세요.\")"
   ]
  },
  {
   "cell_type": "code",
   "execution_count": 10,
   "id": "bcc1e7be-d572-4499-b43f-f49824306cac",
   "metadata": {
    "scrolled": true
   },
   "outputs": [
    {
     "name": "stdin",
     "output_type": "stream",
     "text": [
      "숫자를 입력하세요:  6\n",
      "숫자를 입력하세요:  10\n",
      "숫자를 입력하세요:  7\n",
      "숫자를 입력하세요:  15\n",
      "숫자를 입력하세요:  1\n"
     ]
    },
    {
     "name": "stdout",
     "output_type": "stream",
     "text": [
      "최종 점수는 57점입니다.\n"
     ]
    }
   ],
   "source": [
    "def get_score(n):\n",
    "    if n % 3 == 0 and n % 5 == 0:\n",
    "        return n + 10\n",
    "    elif n % 5 == 0:\n",
    "        return n + 5\n",
    "    elif n % 3 == 0:\n",
    "        return n + 3\n",
    "    else:\n",
    "        return n\n",
    "\n",
    "total = 0\n",
    "\n",
    "for i in range(1, 5 + 1):\n",
    "    num = int(input(\"숫자를 입력하세요: \"))\n",
    "    total += get_score(num)\n",
    "\n",
    "print(f'최종 점수는 {total}점입니다.')"
   ]
  },
  {
   "cell_type": "code",
   "execution_count": null,
   "id": "ac87d4e3-59cc-487a-9926-e7905e005c2c",
   "metadata": {},
   "outputs": [],
   "source": []
  }
 ],
 "metadata": {
  "kernelspec": {
   "display_name": "Python 3 (ipykernel)",
   "language": "python",
   "name": "python3"
  },
  "language_info": {
   "codemirror_mode": {
    "name": "ipython",
    "version": 3
   },
   "file_extension": ".py",
   "mimetype": "text/x-python",
   "name": "python",
   "nbconvert_exporter": "python",
   "pygments_lexer": "ipython3",
   "version": "3.11.3"
  }
 },
 "nbformat": 4,
 "nbformat_minor": 5
}
