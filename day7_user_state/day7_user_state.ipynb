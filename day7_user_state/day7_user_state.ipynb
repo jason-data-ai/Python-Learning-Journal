{
 "cells": [
  {
   "cell_type": "code",
   "execution_count": 40,
   "id": "7aa5e0b4-0d52-45a5-a050-1a38038455dc",
   "metadata": {},
   "outputs": [
    {
     "name": "stdout",
     "output_type": "stream",
     "text": [
      "{'kim': ['visit', 'cart', 'buy', 'visit', 'cart'],\n",
      " 'lee': ['visit', 'buy', 'visit', 'cart', 'buy']}\n"
     ]
    }
   ],
   "source": [
    "from collections import defaultdict\n",
    "from pprint import pprint\n",
    "\n",
    "logs = [\n",
    "    (\"2025-04-05\", \"kim\", \"visit\"),\n",
    "    (\"2025-04-05\", \"kim\", \"cart\"),\n",
    "    (\"2025-04-05\", \"kim\", \"buy\"),\n",
    "    (\"2025-04-05\", \"lee\", \"visit\"),\n",
    "    (\"2025-04-05\", \"lee\", \"buy\"),\n",
    "    (\"2025-04-06\", \"kim\", \"visit\"),\n",
    "    (\"2025-04-06\", \"kim\", \"cart\"),\n",
    "    (\"2025-04-06\", \"lee\", \"visit\"),\n",
    "    (\"2025-04-06\", \"lee\", \"cart\"),\n",
    "    (\"2025-04-06\", \"lee\", \"buy\")\n",
    "]\n",
    "\n",
    "user_logs = defaultdict(list)    # 구조 자동화\n",
    "\n",
    "for _, user, action in logs:    # 출력 요구사항에 맞는 데이터 위치 변화\n",
    "    user_logs[user].append(action)\n",
    "\n",
    "pprint(dict(user_logs))    # 출력 - 보기 깔끔하게"
   ]
  },
  {
   "cell_type": "code",
   "execution_count": null,
   "id": "3009aaab-501e-4b6a-b092-22dc3a940897",
   "metadata": {},
   "outputs": [],
   "source": []
  }
 ],
 "metadata": {
  "kernelspec": {
   "display_name": "Python 3 (ipykernel)",
   "language": "python",
   "name": "python3"
  },
  "language_info": {
   "codemirror_mode": {
    "name": "ipython",
    "version": 3
   },
   "file_extension": ".py",
   "mimetype": "text/x-python",
   "name": "python",
   "nbconvert_exporter": "python",
   "pygments_lexer": "ipython3",
   "version": "3.11.3"
  }
 },
 "nbformat": 4,
 "nbformat_minor": 5
}
