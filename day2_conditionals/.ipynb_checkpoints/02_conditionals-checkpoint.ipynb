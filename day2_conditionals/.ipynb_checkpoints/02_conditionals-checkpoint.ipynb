{
 "cells": [
  {
   "cell_type": "markdown",
   "id": "8794653c-6412-4e7a-b64a-6bcdf35f178a",
   "metadata": {},
   "source": [
    "# 🧭 Day 2 - 조건문 & 수학적 논리 표현\n",
    "\n",
    "---\n",
    "\n",
    "## ✅ 조건문 기본 구조\n",
    "\n",
    "- if: 첫 번째 조건이 True일 때 실행\n",
    "- elif: if가 False일 경우, 이어서 검사되는 조건\n",
    "- else: 위 모든 조건이 False일 때 실행됨\n",
    "\n",
    "조건문은 위에서 아래로 순서대로 평가되며,  \n",
    "처음으로 True가 되는 조건 블록만 실행되고 나머지는 무시됨\n",
    "\n",
    "---\n",
    "\n",
    "## 🔗 조건 표현 정리\n",
    "\n",
    "| 표현      | 의미              | 예시                       |\n",
    "|-----------|-------------------|----------------------------|\n",
    "| ==        | 같다              | x == 10                    |\n",
    "| !=        | 다르다            | x != 10                    |\n",
    "| > / <     | 크다 / 작다       | x > 5, x < 3               |\n",
    "| >= / <=   | 크거나 같다 / 작거나 같다 | x >= 0            |\n",
    "| and / or  | 논리 연산자       | x > 0 and x < 10           |\n",
    "| not       | 부정              | not x > 5 → x <= 5         |\n",
    "\n",
    "---\n",
    "\n",
    "## 💡 예제 설명\n",
    "```python\n",
    "score = 87\n",
    "\n",
    "if score >= 90:\n",
    "    print(\"A\")\n",
    "elif score >= 80:\n",
    "    print(\"B\")\n",
    "else:\n",
    "    print(\"C 이하\")\n",
    "```\n",
    "\n",
    "## 🔎 예제 설명\n",
    "\n",
    "score = 87일 경우,\n",
    "\n",
    "- if score >= 90 → False\n",
    "- elif score >= 80 → True → \"B\" 출력\n",
    "- else는 실행되지 않음\n",
    "\n",
    "즉, 조건문은 위에서부터 순차적으로 평가되며  \n",
    "처음으로 True인 조건만 실행된다."
   ]
  },
  {
   "cell_type": "code",
   "execution_count": 5,
   "id": "b65a04b4-36a2-4a10-b6af-49f4b043df90",
   "metadata": {},
   "outputs": [
    {
     "name": "stdout",
     "output_type": "stream",
     "text": [
      "Even\n"
     ]
    }
   ],
   "source": [
    "num = 42\n",
    "\n",
    "if num % 2 == 0:\n",
    "    print(\"Even\")\n",
    "else:\n",
    "    print(\"Odd\")"
   ]
  },
  {
   "cell_type": "code",
   "execution_count": 6,
   "id": "dc68f5ad-7170-4fdf-9858-912684971b84",
   "metadata": {},
   "outputs": [
    {
     "name": "stdout",
     "output_type": "stream",
     "text": [
      "C\n"
     ]
    }
   ],
   "source": [
    "score = 72\n",
    "\n",
    "if score >= 90:\n",
    "    print(\"A\")\n",
    "elif score >= 80:\n",
    "    print(\"B\")\n",
    "elif score >= 70:\n",
    "    print(\"C\")\n",
    "else:\n",
    "    print(\"F\")"
   ]
  },
  {
   "cell_type": "code",
   "execution_count": 7,
   "id": "6b394480-8430-4d8d-b527-fd993e019dda",
   "metadata": {},
   "outputs": [
    {
     "name": "stdout",
     "output_type": "stream",
     "text": [
      "Negative\n"
     ]
    }
   ],
   "source": [
    "n = -13\n",
    "\n",
    "if n == 0:\n",
    "    print(\"0\")\n",
    "elif n > 0:\n",
    "    print(\"Positive\")\n",
    "else:\n",
    "    print(\"Negative\")"
   ]
  },
  {
   "cell_type": "code",
   "execution_count": 14,
   "id": "b627729c-d80e-404a-a53d-53b28d168632",
   "metadata": {},
   "outputs": [
    {
     "name": "stdout",
     "output_type": "stream",
     "text": [
      "1900 is not a Leap year\n"
     ]
    }
   ],
   "source": [
    "year = 1900\n",
    "\n",
    "if year % 4 == 0 and ( year % 100 != 0 or year % 400 == 0):\n",
    "    print(year, \"is Leap year\")\n",
    "else:\n",
    "    print(year, \"is not a Leap year\")"
   ]
  },
  {
   "cell_type": "markdown",
   "id": "546e2925-02c6-49b6-ae7d-b5c612d81f4a",
   "metadata": {},
   "source": [
    "## ✅ 조건문 핵심 요약 (Day 2 정리)\n",
    "\n",
    "- 조건문 구조: if → elif → else 순서대로 위에서 아래로 실행\n",
    "- 중첩은 피하고, 위계가 명확한 분기 구조를 사용\n",
    "- 논리 연산자\n",
    "  - `and`: 모두 True일 때만 True\n",
    "  - `or`: 하나라도 True면 True\n",
    "  - 괄호 `( )`를 통해 우선순위 명확히 할 것\n",
    "- 디버깅 포인트\n",
    "  - 조건이 겹칠 경우: `not`, `!=`, `==` 혼용 시 혼란 유발\n",
    "  - 중첩된 괄호를 분석할 때는 종이로 시각화\n",
    "\n",
    "---\n",
    "\n",
    "### 윤년 조건 공식 정리\n",
    "\n",
    "윤년인 경우:  \n",
    "`(연도 % 4 == 0) and (연도 % 100 != 0 or 연도 % 400 == 0)`\n",
    "\n",
    "- 4의 배수이면서, 100의 배수가 아니거나 400의 배수인 경우\n",
    "- 조건 우선순위가 핵심"
   ]
  },
  {
   "cell_type": "code",
   "execution_count": 24,
   "id": "9a24c8be-16bc-4f75-b68b-134da7590ee2",
   "metadata": {},
   "outputs": [
    {
     "name": "stdout",
     "output_type": "stream",
     "text": [
      "Please visit to any hospital\n"
     ]
    }
   ],
   "source": [
    "age = 70\n",
    "temp = 37.8\n",
    "travel = \"no\"\n",
    "\n",
    "# age = 25\n",
    "# temp = 36.5\n",
    "# travel = \"yes\"\n",
    "\n",
    "if age >= 65 and temp >= 37.5:   # 문제에서 첫번째 조건과 동일하게 작성한 코드입니다.\n",
    "    print(\"Please visit to any hospital\")\n",
    "elif travel == \"yes\":    # 문제에서 'yes/no' 라고 명시해서 \"yes\" 기준으로 동일하게 작성했습니다.\n",
    "    print(\"You must do self-quarantine\")\n",
    "else:\n",
    "    print(\"Normal\")"
   ]
  },
  {
   "cell_type": "code",
   "execution_count": 29,
   "id": "bc5c6663-65e0-4254-b12d-f39019884bf9",
   "metadata": {},
   "outputs": [
    {
     "name": "stdout",
     "output_type": "stream",
     "text": [
      "Out of range\n"
     ]
    }
   ],
   "source": [
    "num = 100\n",
    "\n",
    "if 0 < num < 100:\n",
    "    print(\"Valid\")\n",
    "else:\n",
    "    print(\"Out of range\")"
   ]
  },
  {
   "cell_type": "markdown",
   "id": "e802b8d7-9df9-43d9-9d18-39278d76c425",
   "metadata": {},
   "source": [
    "# ✅ Day 2 마무리 요약 - 조건문 정리\n",
    "\n",
    "---\n",
    "\n",
    "## 🔹 조건문 기본 구조 복습\n",
    "\n",
    "- `if`: 첫 조건이 True일 경우 실행\n",
    "- `elif`: 이전 조건이 False일 때 순차적으로 평가\n",
    "- `else`: 위 조건 모두 False일 경우 실행\n",
    "- 조건은 위에서 아래로 **한 번만 실행**됨\n",
    "\n",
    "---\n",
    "\n",
    "## 🔹 조건 표현 요약\n",
    "\n",
    "| 표현        | 의미              | 예시                 |\n",
    "|-------------|-------------------|----------------------|\n",
    "| `==`        | 같다              | `x == 10`            |\n",
    "| `!=`        | 다르다            | `x != 10`            |\n",
    "| `>` / `<`   | 크다 / 작다       | `x > 5`, `x < 3`     |\n",
    "| `>=` / `<=` | 이상 / 이하       | `x >= 90`            |\n",
    "| `and`       | 모두 True         | `x > 5 and x < 10`   |\n",
    "| `or`        | 하나라도 True     | `x == 0 or x == 1`   |\n",
    "| `not`       | 조건 부정         | `not x > 3` → `x <= 3` |\n",
    "\n",
    "---\n",
    "\n",
    "## 🔹 실습 문제 흐름 요약\n",
    "\n",
    "- **짝수/홀수 판별기**: `num % 2 == 0`으로 조건 분기\n",
    "- **점수 등급 평가기**: 조건 순서가 핵심 (A → B → C → F)\n",
    "- **양수/음수/0 판단**: `if`, `elif`, `else` 전형 구조\n",
    "- **윤년 판별기**: 복합 조건 (`and`, `or`, 괄호 우선순위)\n",
    "- **의료/자가격리 판별기**: 조건 복합 + 논리 우선순위 + 현실 모델링 사고\n",
    "\n",
    "---\n",
    "\n",
    "## 🔹 실수 패턴 메모\n",
    "\n",
    "- `:` 누락 → ADHD 특성상 가장 많이 발생, 항상 조건문마다 점검 루틴 필요\n",
    "- `!=` 또는 `not` 중복 사용 → **논리 이중부정** 발생 주의\n",
    "- 조건을 지나치게 꼬아서 해석하지 말고 **객관식은 정확히 직진 사고 유지**\n",
    "\n",
    "---\n",
    "\n",
    "## 🔹 사고 흐름 정리 팁\n",
    "\n",
    "- 조건식 작성 전에는 반드시 **범위/관계**를 입으로 설명해본다\n",
    "- 논리 연산자가 등장하면 **괄호**로 시각화\n",
    "- `elif`는 오직 하나만 실행된다는 점을 반드시 기억"
   ]
  },
  {
   "cell_type": "code",
   "execution_count": null,
   "id": "4fb7dbd7-eaa2-45cf-a769-690a58e439b8",
   "metadata": {},
   "outputs": [],
   "source": []
  }
 ],
 "metadata": {
  "kernelspec": {
   "display_name": "Python 3 (ipykernel)",
   "language": "python",
   "name": "python3"
  },
  "language_info": {
   "codemirror_mode": {
    "name": "ipython",
    "version": 3
   },
   "file_extension": ".py",
   "mimetype": "text/x-python",
   "name": "python",
   "nbconvert_exporter": "python",
   "pygments_lexer": "ipython3",
   "version": "3.11.3"
  }
 },
 "nbformat": 4,
 "nbformat_minor": 5
}
