{
 "cells": [
  {
   "cell_type": "code",
   "execution_count": 2,
   "id": "0b6d69e1-9aed-465b-bafc-a5aa50354e00",
   "metadata": {},
   "outputs": [
    {
     "name": "stdout",
     "output_type": "stream",
     "text": [
      "hello\n"
     ]
    }
   ],
   "source": [
    "print(\"hello\")"
   ]
  },
  {
   "cell_type": "markdown",
   "id": "883599fc-85c4-4f82-a941-b089b9c5cad8",
   "metadata": {},
   "source": [
    "# 오늘의 수업 요약\n",
    "- 정수와 소수의 차이\n",
    "- 나눗셈 연산자 종류"
   ]
  },
  {
   "cell_type": "markdown",
   "id": "0b3a8b2a-c850-4e04-b65e-20df1d3bdc50",
   "metadata": {},
   "source": [
    "## 🔢 정수와 소수의 차이\n",
    "\n",
    "- **정수**(int): 소수점이 없는 수 (예: -3, 0, 7, 22)\n",
    "- **소수**(float): 소수점이 있는 수 (예: 3.14, -0.5, 1.0)\n",
    "\n",
    "🧠 **핵심**:\n",
    "- Python은 '3'은 정수로 인식, '3.0'은 소수로 인식\n",
    "- 정수끼리 나누면 결과가 소수가 될 수 있음"
   ]
  },
  {
   "cell_type": "code",
   "execution_count": 3,
   "id": "a3e47569-dc7d-4b34-bc8e-e6c4b34f5a6f",
   "metadata": {},
   "outputs": [
    {
     "name": "stdout",
     "output_type": "stream",
     "text": [
      "<class 'int'>\n",
      "<class 'float'>\n",
      "1.5\n",
      "1\n",
      "1\n"
     ]
    }
   ],
   "source": [
    "print(type(3))      # 정수\n",
    "print(type(3.0))    # 소수\n",
    "print(3 / 2)        # 나눗셈 결과\n",
    "print(3 // 2)       # 몫\n",
    "print(3 % 2)        # 나머지"
   ]
  },
  {
   "cell_type": "markdown",
   "id": "e61c1ce7-ffc5-4922-8cee-6f485027102f",
   "metadata": {},
   "source": [
    "| 연산자 | 이름   | 결과 형태   | 예시   | 결과 |\n",
    "|--------|--------|--------------|--------|--------|\n",
    "| `/`    | 나눗셈 | 소수(float)  | 3 / 2  | 1.5    |\n",
    "| `//`   | 몫     | 정수(int)    | 3 // 2 | 1      |\n",
    "| `%`    | 나머지 | 정수(int)    | 3 % 2  | 1      |"
   ]
  },
  {
   "cell_type": "code",
   "execution_count": 5,
   "id": "151c4012-49db-4f7d-9c83-4e01f4d89f25",
   "metadata": {},
   "outputs": [
    {
     "name": "stdout",
     "output_type": "stream",
     "text": [
      "1.75\n",
      "1\n",
      "3\n"
     ]
    }
   ],
   "source": [
    "print(7 / 4)    # 정수끼리 나누어도 결과가 소수가 될 수 있음. -> 자료형이 에러의 원인을 가능성도 많아 보임\n",
    "print(7 // 4)   # 나누었을 때, 몫만 알려줌\n",
    "print(7 % 4)    # 나누었을 때, 나머지만 알려줌"
   ]
  },
  {
   "cell_type": "markdown",
   "id": "8bb8146a-9a36-4a5f-8328-dbb2651d54a6",
   "metadata": {},
   "source": [
    "## 🔁 수 표현 변환과 소수점 반올림\n",
    "\n",
    "- `int(x)` : 값을 **정수**로 변환 → 소수점 이하 버림\n",
    "- `float(x)` : 값을 **소수(float)**로 변환\n",
    "- `round(x)` : 소수를 **반올림**해서 정수 또는 특정 소수점 자리로 표현\n",
    "\n",
    "### 🎯 예외 개념: 소수점 정밀도 오류\n",
    "- 컴퓨터는 모든 실수를 **2진수(이진부동소수점)**로 저장\n",
    "- `0.1 + 0.2` → `0.3`이 아니라 `0.30000000000000004`가 나올 수 있음\n",
    "- 이는 **컴퓨터의 실수 표현 한계로 인한 정밀도 문제**임"
   ]
  },
  {
   "cell_type": "code",
   "execution_count": 7,
   "id": "bab8a9d5-5b79-4420-ba4d-fa0861463ea1",
   "metadata": {},
   "outputs": [
    {
     "name": "stdout",
     "output_type": "stream",
     "text": [
      "3\n",
      "7.0\n",
      "3\n",
      "3.14\n"
     ]
    }
   ],
   "source": [
    "print(int(3.9))         # 소수 → 정수 (버림)\n",
    "print(float(7))         # 정수 → 소수\n",
    "print(round(3.14159))   # 반올림 (기본은 소수 첫째자리 반올림)\n",
    "print(round(3.14159, 2))  # 소수 둘째자리까지 반올림"
   ]
  },
  {
   "cell_type": "code",
   "execution_count": 10,
   "id": "a63c5d36-0cc6-421d-9aad-9b9a4d67feb8",
   "metadata": {},
   "outputs": [
    {
     "name": "stdout",
     "output_type": "stream",
     "text": [
      "0.30000000000000004\n",
      "<class 'float'>\n",
      "<class 'float'>\n",
      "False\n"
     ]
    }
   ],
   "source": [
    "print(0.1 + 0.2)    # 0.3 출력\n",
    "print(type(0.1))\n",
    "print(type(0.2))\n",
    "print(0.1 + 0.2 == 0.3)    # True 출력"
   ]
  },
  {
   "cell_type": "code",
   "execution_count": 12,
   "id": "77d23998-01c8-40f3-8479-350acfeb56cc",
   "metadata": {},
   "outputs": [
    {
     "name": "stdout",
     "output_type": "stream",
     "text": [
      "2.333\n",
      "2\n",
      "2.0\n"
     ]
    }
   ],
   "source": [
    "print(round(7 / 3, 3))      # 소수 셋째 자리까지 반올림\n",
    "print(int(7 / 3))           # 정수화\n",
    "print(float(7 // 3))        # 몫 → float 변환"
   ]
  },
  {
   "cell_type": "markdown",
   "id": "aca925f2-5a24-48cd-a821-7116a9be7931",
   "metadata": {},
   "source": [
    "## 🧮 수 표현 변환 & 소수점 정밀도 오류 요약\n",
    "\n",
    "### 🔧 각 변환 함수의 작동 방식\n",
    "\n",
    "- `int(x)`  \n",
    "  → 소수 → 정수로 변환 (소수점 이하 **버림**)  \n",
    "  → 예: `int(3.9)` → `3`\n",
    "\n",
    "- `float(x)`  \n",
    "  → 정수 → 소수로 변환  \n",
    "  → 예: `float(7)` → `7.0`\n",
    "\n",
    "- `round(x)`  \n",
    "  → 소수를 **반올림**  \n",
    "  → 기본은 소수 첫째자리까지, `round(x, n)`으로 **소수 n자리까지** 설정 가능  \n",
    "  → 예: `round(3.14159, 2)` → `3.14`\n",
    "\n",
    "---\n",
    "\n",
    "### ⚠️ 실수 정밀도 오류\n",
    "\n",
    "- 파이썬에서 `0.1 + 0.2 == 0.3`은 `False`가 나옴  \n",
    "- 이유: 파이썬의 내부 연산은 **2진 부동소수점(floating point)** 방식  \n",
    "  → `0.1`, `0.2`는 **이진수로 정확히 표현 불가능**  \n",
    "  → 이로 인해 `0.30000000000000004` 같은 **근사값이 출력됨**\n",
    "\n",
    "- 해결법:  \n",
    "  → `round()`로 소수점 자릿수 제한하여 비교  \n",
    "  → 예: `round(0.1 + 0.2, 1) == 0.3` → `True`\n",
    "\n",
    "---\n",
    "\n",
    "### 🧠 내가 느낀 요점 요약\n",
    "\n",
    "- 내부 동작 방식에 따라 실수 계산의 오류가 생길 수 있다는 점이 놀라웠다  \n",
    "- 수 표현 함수들은 **데이터 처리 정확도에 중요한 역할**을 하며,  \n",
    "  특히 `round()`는 **정밀한 비교**나 **출력 포맷**에서도 자주 사용될 것으로 예상됨  \n",
    "- 단순한 함수처럼 보여도, **실제 사용 시 주의할 점이 많다**는 걸 체감함\n"
   ]
  },
  {
   "cell_type": "markdown",
   "id": "1878d799-fe85-413f-b3f8-969fc817d856",
   "metadata": {},
   "source": [
    "🔍 **개념 체득 리포트**\n",
    "\n",
    "- 학습 구성이 매우 마음에 듦\n",
    "- 그 동안, 쉬운 내용들은 무시하고 오만했었다고 생각함 👉 개념 요약 통해서 쉬운것도 정리 하려니 어려움을 느낌\n",
    "\n",
    "🚨 **주의할 점**\n",
    "\n",
    "- 정수 vs 소수 표현은 파이썬에서 다른 개념으로 인식하기 때문에, 주의해야 한다고 느낌 👉 많은 에러를 발생시킬 것 같다고 생각함\n",
    "- 정수끼리 나누어도 실수로 바뀌는 이유는 **나눗셈의 의미 자체가 비율 계산이기 때문** → **정확한** 수학 계산 우선 = **파이썬의 설계 철학**  \n",
    "  `3 / 2  → 1.5  (float)`  \n",
    "  `4 / 2  → 2.0  (float)`"
   ]
  },
  {
   "cell_type": "markdown",
   "id": "e6ca8b54-14aa-4634-93c7-38debcaf8359",
   "metadata": {},
   "source": [
    "---\n",
    "\n",
    "# 🎯 Day 1 마무리 테스트 + 피드백 요약\n",
    "\n",
    "## 📘 Part 1: 객관식\n",
    "\n",
    "**Q1. `int(3.9)` → ?**  \n",
    "✅ 정답: `3` (소수점 이하 버림)\n",
    "\n",
    "**Q2. 소수점 자릿수까지 반올림하는 함수는?**  \n",
    "✅ 정답: `round()`\n",
    "\n",
    "**Q3. `0.1 + 0.2 == 0.3`이 False인 이유는?**  \n",
    "✅ 정답: `0.1과 0.2는 부정확한 실수라서`  \n",
    "→ 이진수로 정확히 표현이 안 되는 실수값이기 때문\n",
    "\n",
    "---\n",
    "\n",
    "## 🔍 Part 2: 코드 해석\n",
    "\n",
    "**Q4.**"
   ]
  },
  {
   "cell_type": "code",
   "execution_count": 13,
   "id": "c9a25bd4-3e65-4930-a486-cab207074dff",
   "metadata": {},
   "outputs": [
    {
     "name": "stdout",
     "output_type": "stream",
     "text": [
      "2.5\n",
      "2\n",
      "1\n"
     ]
    }
   ],
   "source": [
    "print(5 / 2)    # 2.5 → 정수끼리 나눠도 소수 반환\n",
    "print(5 // 2)   # 2 → 몫만 반환\n",
    "print(5 % 2)    # 1 → 나머지만 반환"
   ]
  },
  {
   "cell_type": "markdown",
   "id": "5475eac6-b517-4eb0-8448-a926d0d9eaa0",
   "metadata": {},
   "source": [
    "**Q5.**"
   ]
  },
  {
   "cell_type": "code",
   "execution_count": 14,
   "id": "24b8b873-2037-4a60-95a9-1a14ea83aa7b",
   "metadata": {},
   "outputs": [
    {
     "name": "stdout",
     "output_type": "stream",
     "text": [
      "2.7\n",
      "2\n",
      "2.0\n"
     ]
    }
   ],
   "source": [
    "print(round(8 / 3, 1))   # 2.7 → 소수 첫째자리 반올림\n",
    "print(int(8 / 3))        # 2 → 정수 변환, 소수점 이하 버림\n",
    "print(float(8 // 3))     # ❗ 2.0 → `8 // 3`이 먼저 수행되어 정수 2 → float으로 변환"
   ]
  },
  {
   "cell_type": "markdown",
   "id": "111ca46b-8f68-40f4-b406-4af66ef837c7",
   "metadata": {},
   "source": [
    "※ **주의**:  \n",
    "`8 // 3 = 2` 이므로 `float(2)` = `2.0`  \n",
    "→ **연산자 우선 적용 순서가 중요**\n",
    "\n",
    "---\n",
    "\n",
    "## 🧠 Part 3: 자기 요약\n",
    "\n",
    "### 🔹 연산자 / 함수 요약\n",
    "\n",
    "- `/` : 나누기 → **소수(float)** 반환  \n",
    "- `//` : **몫**만 반환 (정수로)  \n",
    "- `%` : **나머지**만 반환  \n",
    "- `round()` : **소수 반올림**, `round(x, n)` 형태로 **n자리까지 반올림**\n",
    "\n",
    "---\n",
    "\n",
    "### 🔹 실수 정밀도 오류 요약\n",
    "\n",
    "- `0.1`, `0.2`는 **이진수로 정확히 표현 불가**\n",
    "- → `0.1 + 0.2`는 `0.3`이 아니라 `0.30000000000000004`처럼 나올 수 있음\n",
    "- **해결 방법**: `round(0.1 + 0.2, 1) == 0.3` 형태로 비교하면 오류 회피 가능"
   ]
  }
 ],
 "metadata": {
  "kernelspec": {
   "display_name": "Python 3 (ipykernel)",
   "language": "python",
   "name": "python3"
  },
  "language_info": {
   "codemirror_mode": {
    "name": "ipython",
    "version": 3
   },
   "file_extension": ".py",
   "mimetype": "text/x-python",
   "name": "python",
   "nbconvert_exporter": "python",
   "pygments_lexer": "ipython3",
   "version": "3.11.3"
  }
 },
 "nbformat": 4,
 "nbformat_minor": 5
}
