{
 "cells": [
  {
   "cell_type": "code",
   "execution_count": 2,
   "id": "fcbe80c7-69d2-4765-8339-48e02e5b9cc2",
   "metadata": {},
   "outputs": [
    {
     "data": {
      "text/plain": [
       "<function __main__.<lambda>(x, y)>"
      ]
     },
     "execution_count": 2,
     "metadata": {},
     "output_type": "execute_result"
    }
   ],
   "source": [
    "def add(x, y):\n",
    "    return x + y\n",
    "\n",
    "# lambda로 바꾸면:\n",
    "lambda x, y: x + y"
   ]
  },
  {
   "cell_type": "code",
   "execution_count": 13,
   "id": "c542aa23-c7b2-44da-b757-97d3630f05b7",
   "metadata": {},
   "outputs": [
    {
     "name": "stdout",
     "output_type": "stream",
     "text": [
      "{'kim': defaultdict(<class 'list'>, {'2025-04-01': ['visit', 'cart', 'buy']}), 'lee': defaultdict(<class 'list'>, {'2025-04-01': ['visit'], '2025-04-02': ['visit']}), 'choi': defaultdict(<class 'list'>, {'2025-04-02': ['visit', 'cart']})}\n"
     ]
    }
   ],
   "source": [
    "logs = [\n",
    "    (\"2025-04-01\", \"kim\", \"visit\"),\n",
    "    (\"2025-04-01\", \"lee\", \"visit\"),\n",
    "    (\"2025-04-01\", \"kim\", \"cart\"),\n",
    "    (\"2025-04-01\", \"kim\", \"buy\"),\n",
    "    (\"2025-04-02\", \"lee\", \"visit\"),\n",
    "    (\"2025-04-02\", \"choi\", \"visit\"),\n",
    "    (\"2025-04-02\", \"choi\", \"cart\")\n",
    "]\n",
    "\n",
    "user_logs = defaultdict(lambda: defaultdict(list))\n",
    "\n",
    "for date, user, action in logs:\n",
    "    user_logs[user][date].append(action)\n",
    "\n",
    "print(dict(user_logs))"
   ]
  },
  {
   "cell_type": "code",
   "execution_count": 5,
   "id": "f142cfdc-e82a-4f53-83af-6c3064fd9506",
   "metadata": {},
   "outputs": [
    {
     "name": "stdout",
     "output_type": "stream",
     "text": [
      "defaultdict(<function <lambda> at 0x1121cfb00>, {})\n",
      "defaultdict(<function <lambda> at 0x1121cfb00>, {'kim': defaultdict(<class 'list'>, {'2025-04-01': ['visit']})})\n"
     ]
    }
   ],
   "source": [
    "from collections import defaultdict\n",
    "\n",
    "# 방법 1: 일반 defaultdict (초기값은 list)\n",
    "d = defaultdict(list)\n",
    "\n",
    "# 방법 2: defaultdict 안에 또 defaultdict\n",
    "d = defaultdict(lambda: defaultdict(list))\n",
    "print(d)\n",
    "\n",
    "d[\"kim\"][\"2025-04-01\"].append(\"visit\")\n",
    "print(d)"
   ]
  },
  {
   "cell_type": "code",
   "execution_count": 7,
   "id": "b34c99fd-35ec-4ebf-ac54-8bcf8b997ca9",
   "metadata": {},
   "outputs": [
    {
     "name": "stdout",
     "output_type": "stream",
     "text": [
      "{'kim': defaultdict(<class 'list'>, {'2025-04-01': ['visit', 'cart'], '2025-04-02': ['visit']}), 'lee': defaultdict(<class 'list'>, {'2025-04-01': ['visit']})}\n"
     ]
    }
   ],
   "source": [
    "from collections import defaultdict\n",
    "\n",
    "d = defaultdict(lambda: defaultdict(list))\n",
    "\n",
    "d[\"kim\"][\"2025-04-01\"].append(\"visit\")\n",
    "d[\"kim\"][\"2025-04-01\"].append(\"cart\")\n",
    "d[\"kim\"][\"2025-04-02\"].append(\"visit\")\n",
    "d[\"lee\"][\"2025-04-01\"].append(\"visit\")\n",
    "\n",
    "print(dict(d))"
   ]
  },
  {
   "cell_type": "code",
   "execution_count": 9,
   "id": "b24b4608-823d-4ed8-bf73-9425e2c6396e",
   "metadata": {},
   "outputs": [
    {
     "name": "stdout",
     "output_type": "stream",
     "text": [
      "9\n"
     ]
    }
   ],
   "source": [
    "def process(x, y, func):\n",
    "    return func(x, y)\n",
    "\n",
    "print(process(5, 2, lambda x, y: x + y + 2))  # → 9"
   ]
  },
  {
   "cell_type": "code",
   "execution_count": 24,
   "id": "723cc5d3-3761-490d-bf1a-ec1a28972317",
   "metadata": {},
   "outputs": [
    {
     "name": "stdout",
     "output_type": "stream",
     "text": [
      "{'kim': {'2025-04-04': ['visit', 'cart'], '2025-04-05': ['buy']},\n",
      " 'lee': {'2025-04-04': ['visit', 'cart'], '2025-04-05': ['visit', 'buy']}}\n"
     ]
    }
   ],
   "source": [
    "from pprint import pprint\n",
    "\n",
    "logs = [\n",
    "    (\"2025-04-04\", \"kim\", \"visit\"),\n",
    "    (\"2025-04-04\", \"lee\", \"visit\"),\n",
    "    (\"2025-04-04\", \"kim\", \"cart\"),\n",
    "    (\"2025-04-04\", \"lee\", \"cart\"),\n",
    "    (\"2025-04-05\", \"kim\", \"buy\"),\n",
    "    (\"2025-04-05\", \"lee\", \"visit\"),\n",
    "    (\"2025-04-05\", \"lee\", \"buy\")\n",
    "]\n",
    "\n",
    "# 구조 자동화 생성\n",
    "user_logs = defaultdict(lambda: defaultdict(list))\n",
    "\n",
    "# 사용자별 날짜별 행동들 기록\n",
    "for date, name, action in logs:\n",
    "    user_logs[name][date].append(action)\n",
    "\n",
    "# 출력\n",
    "pprint({user: dict(days) for user, days in user_logs.items()})\n",
    "\n",
    "\n",
    "# lambda가 없었다면, 조건별 분기도 복잡해지고 코드의 가독성도 떨어짐\n",
    "# 에러 및 유지 보수 측면에서 어려움이 예상됨\n"
   ]
  },
  {
   "cell_type": "code",
   "execution_count": null,
   "id": "ef0bdb73-8155-4cd0-acb0-4bd45e683250",
   "metadata": {},
   "outputs": [],
   "source": []
  }
 ],
 "metadata": {
  "kernelspec": {
   "display_name": "Python 3 (ipykernel)",
   "language": "python",
   "name": "python3"
  },
  "language_info": {
   "codemirror_mode": {
    "name": "ipython",
    "version": 3
   },
   "file_extension": ".py",
   "mimetype": "text/x-python",
   "name": "python",
   "nbconvert_exporter": "python",
   "pygments_lexer": "ipython3",
   "version": "3.11.3"
  }
 },
 "nbformat": 4,
 "nbformat_minor": 5
}
