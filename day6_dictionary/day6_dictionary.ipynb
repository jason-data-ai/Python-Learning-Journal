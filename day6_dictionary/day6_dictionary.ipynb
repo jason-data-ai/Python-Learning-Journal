{
 "cells": [
  {
   "cell_type": "code",
   "execution_count": 8,
   "id": "054b0bea-5e3f-4757-91db-5efd54ad9519",
   "metadata": {},
   "outputs": [
    {
     "name": "stdout",
     "output_type": "stream",
     "text": [
      "defaultdict(<class 'list'>, {'kim': [1], 'lee': [2]})\n"
     ]
    }
   ],
   "source": [
    "from collections import defaultdict\n",
    "\n",
    "d = defaultdict(list)\n",
    "d[\"kim\"].append(1)\n",
    "d[\"lee\"].append(2)\n",
    "print(d)"
   ]
  },
  {
   "cell_type": "code",
   "execution_count": 5,
   "id": "1ba19a0b-c9f0-4086-b611-97447fe21f7b",
   "metadata": {},
   "outputs": [
    {
     "name": "stdout",
     "output_type": "stream",
     "text": [
      "{'kim': [1]}\n"
     ]
    }
   ],
   "source": [
    "d = {}\n",
    "d.setdefault(\"kim\", []).append(1)\n",
    "print(d)"
   ]
  },
  {
   "cell_type": "code",
   "execution_count": 41,
   "id": "226f78f6-32f3-42ab-b069-c97bcce1a791",
   "metadata": {},
   "outputs": [
    {
     "name": "stdout",
     "output_type": "stream",
     "text": [
      "defaultdict(<class 'dict'>, {'kim': {'2025-04-01': ['visit', 'cart', 'buy']}, 'lee': {'2025-04-01': ['visit'], '2025-04-02': ['visit']}, 'choi': {'2025-04-02': ['visit', 'cart']}})\n"
     ]
    }
   ],
   "source": [
    "from collections import defaultdict\n",
    "\n",
    "logs = [\n",
    "    (\"2025-04-01\", \"kim\", \"visit\"),\n",
    "    (\"2025-04-01\", \"lee\", \"visit\"),\n",
    "    (\"2025-04-01\", \"kim\", \"cart\"),\n",
    "    (\"2025-04-01\", \"kim\", \"buy\"),\n",
    "    (\"2025-04-02\", \"lee\", \"visit\"),\n",
    "    (\"2025-04-02\", \"choi\", \"visit\"),\n",
    "    (\"2025-04-02\", \"choi\", \"cart\")\n",
    "]\n",
    "\n",
    "user_logs = defaultdict(dict)\n",
    "for log in logs:\n",
    "    if not log[1] in user_logs:\n",
    "        user_logs[log[1]].setdefault(log[0], []).append(log[2])\n",
    "    elif not user_logs[log[1]].get(log[0]):\n",
    "        user_logs[log[1]].setdefault(log[0], []).append(log[2])\n",
    "    else:\n",
    "        user_logs[log[1]][log[0]].append(log[2])\n",
    "\n",
    "print(user_logs)"
   ]
  },
  {
   "cell_type": "code",
   "execution_count": null,
   "id": "35d1db7a-d719-40fe-b6f7-087da6ef3576",
   "metadata": {},
   "outputs": [],
   "source": []
  }
 ],
 "metadata": {
  "kernelspec": {
   "display_name": "Python 3 (ipykernel)",
   "language": "python",
   "name": "python3"
  },
  "language_info": {
   "codemirror_mode": {
    "name": "ipython",
    "version": 3
   },
   "file_extension": ".py",
   "mimetype": "text/x-python",
   "name": "python",
   "nbconvert_exporter": "python",
   "pygments_lexer": "ipython3",
   "version": "3.11.3"
  }
 },
 "nbformat": 4,
 "nbformat_minor": 5
}
