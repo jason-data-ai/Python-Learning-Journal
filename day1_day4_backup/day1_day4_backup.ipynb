{
 "cells": [
  {
   "cell_type": "code",
   "execution_count": 17,
   "id": "17654d52-cdf0-47a6-bc8d-10fbe29a65b7",
   "metadata": {},
   "outputs": [
    {
     "name": "stdin",
     "output_type": "stream",
     "text": [
      "비밀번호 입력:  ㅁㅇ\n"
     ]
    },
    {
     "name": "stdout",
     "output_type": "stream",
     "text": [
      "비밀번호가 틀렸습니다.\n"
     ]
    },
    {
     "name": "stdin",
     "output_type": "stream",
     "text": [
      "비밀번호 입력:  ㅁㄴ\n"
     ]
    },
    {
     "name": "stdout",
     "output_type": "stream",
     "text": [
      "비밀번호가 틀렸습니다.\n"
     ]
    },
    {
     "name": "stdin",
     "output_type": "stream",
     "text": [
      "비밀번호 입력:  ㅁㄴ\n"
     ]
    },
    {
     "name": "stdout",
     "output_type": "stream",
     "text": [
      "비밀번호가 틀렸습니다.\n"
     ]
    },
    {
     "name": "stdin",
     "output_type": "stream",
     "text": [
      "비밀번호 입력:  ㅁㄴ\n"
     ]
    },
    {
     "name": "stdout",
     "output_type": "stream",
     "text": [
      "반복된 시도 감지: 차단\n"
     ]
    }
   ],
   "source": [
    "password = \"python321\"\n",
    "count = 0\n",
    "\n",
    "samemiss = None\n",
    "misscount = 0\n",
    "\n",
    "while count < 5:\n",
    "    user = input(\"비밀번호 입력: \")\n",
    "    count += 1\n",
    "    misscount += 1\n",
    "\n",
    "    if user == password:\n",
    "        print(\"접속 성공\")\n",
    "        break\n",
    "    elif misscount == 3:\n",
    "        print(\"반복된 시도 감지: 차단\")\n",
    "        break\n",
    "    elif user == samemiss:\n",
    "        print(\"비밀번호가 틀렸습니다.\")\n",
    "        misscount += 1\n",
    "    else:\n",
    "        print(\"비밀번호가 틀렸습니다.\")\n",
    "        samemiss = user\n",
    "        misscount = 0\n",
    "else:\n",
    "    print(\"접속이 차단되었습니다.\")"
   ]
  },
  {
   "cell_type": "code",
   "execution_count": 40,
   "id": "934f9d05-07e3-4e51-a8dd-29119d1e5465",
   "metadata": {},
   "outputs": [
    {
     "name": "stdin",
     "output_type": "stream",
     "text": [
      "정답지를 입력하세요:  soxox\n",
      "학생의 답안을 입력하세요:  fggds\n"
     ]
    },
    {
     "name": "stdout",
     "output_type": "stream",
     "text": [
      "총 맞은 개수는 0개입니다.\n"
     ]
    }
   ],
   "source": [
    "def score(answer, student):\n",
    "    result = 0\n",
    "    for i in range(0, 5):\n",
    "        if answer[i] == student[i]:\n",
    "            result += 1\n",
    "        # else:              이런 경우는 그냥 생략함 -> 이걸 사용하는 경우는 특별한 이유:\n",
    "        #     continue       -> 루프 중간에 특정 조건을 건너뛰어야 할 때,\n",
    "        #                       이후의 실행 흐름을 명확하게 \"스킵\" 한다는 의도를 강조할 때\n",
    "    return result\n",
    "\n",
    "answer = input(\"정답지를 입력하세요: \").upper()\n",
    "student = input(\"학생의 답안을 입력하세요: \").upper()\n",
    "\n",
    "point = score(answer, student)\n",
    "\n",
    "print(f'총 맞은 개수는 {point}개입니다.')"
   ]
  },
  {
   "cell_type": "code",
   "execution_count": null,
   "id": "fcb937e1-a7f2-4a21-af8c-994ae380d96c",
   "metadata": {},
   "outputs": [],
   "source": []
  }
 ],
 "metadata": {
  "kernelspec": {
   "display_name": "Python 3 (ipykernel)",
   "language": "python",
   "name": "python3"
  },
  "language_info": {
   "codemirror_mode": {
    "name": "ipython",
    "version": 3
   },
   "file_extension": ".py",
   "mimetype": "text/x-python",
   "name": "python",
   "nbconvert_exporter": "python",
   "pygments_lexer": "ipython3",
   "version": "3.11.3"
  }
 },
 "nbformat": 4,
 "nbformat_minor": 5
}
